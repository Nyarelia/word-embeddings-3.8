{
 "cells": [
  {
   "cell_type": "code",
   "execution_count": 3,
   "id": "initial_id",
   "metadata": {
    "collapsed": true,
    "ExecuteTime": {
     "end_time": "2024-05-24T15:03:30.308759700Z",
     "start_time": "2024-05-24T15:03:30.298258200Z"
    }
   },
   "outputs": [],
   "source": [
    "from gensim.models import KeyedVectors"
   ]
  },
  {
   "cell_type": "code",
   "outputs": [],
   "source": [
    "word_vectors = KeyedVectors.load_word2vec_format(\n",
    "    'GoogleNews-vectors-negative300.bin', binary=True)"
   ],
   "metadata": {
    "collapsed": false,
    "ExecuteTime": {
     "end_time": "2024-05-24T15:04:35.588638200Z",
     "start_time": "2024-05-24T15:04:15.160576300Z"
    }
   },
   "id": "43eb9c2da4ce555d",
   "execution_count": 5
  },
  {
   "cell_type": "code",
   "outputs": [],
   "source": [
    "def find_analogies(w1, w2, w3):\n",
    "    \"\"\"\n",
    "    w1 - w2 = ? - w3\n",
    "    e.g. king - man = ? - woman\n",
    "    ? = +king +woman -man\n",
    "    \"\"\"\n",
    "    r = word_vectors.most_similar(positive=[w1, w3], negative=[w2])\n",
    "    print(f'{w1} - {w2} = {r[0][0]} - {w3}')\n",
    "  \n",
    "    "
   ],
   "metadata": {
    "collapsed": false,
    "ExecuteTime": {
     "end_time": "2024-05-24T15:23:09.769566700Z",
     "start_time": "2024-05-24T15:23:09.757564300Z"
    }
   },
   "id": "ab78715a746269f7",
   "execution_count": 25
  },
  {
   "cell_type": "code",
   "outputs": [
    {
     "name": "stdout",
     "output_type": "stream",
     "text": [
      "king - man = queen - woman\n"
     ]
    }
   ],
   "source": [
    "find_analogies('king', 'man', 'woman')"
   ],
   "metadata": {
    "collapsed": false,
    "ExecuteTime": {
     "end_time": "2024-05-24T15:23:10.312607700Z",
     "start_time": "2024-05-24T15:23:10.093068900Z"
    }
   },
   "id": "4127cc1a87e8dfdb",
   "execution_count": 26
  },
  {
   "cell_type": "code",
   "outputs": [
    {
     "name": "stdout",
     "output_type": "stream",
     "text": [
      "cat - dog = cows - sheep\n"
     ]
    }
   ],
   "source": [
    "find_analogies('cat', 'dog', 'sheep')"
   ],
   "metadata": {
    "collapsed": false,
    "ExecuteTime": {
     "end_time": "2024-05-24T15:23:11.037602400Z",
     "start_time": "2024-05-24T15:23:10.827567Z"
    }
   },
   "id": "56824daaa8bba45b",
   "execution_count": 27
  },
  {
   "cell_type": "code",
   "outputs": [
    {
     "name": "stdout",
     "output_type": "stream",
     "text": [
      "finland - helsinki = barcelona - spain\n"
     ]
    }
   ],
   "source": [
    "find_analogies('finland', 'helsinki', 'spain')"
   ],
   "metadata": {
    "collapsed": false,
    "ExecuteTime": {
     "end_time": "2024-05-24T15:23:11.766229500Z",
     "start_time": "2024-05-24T15:23:11.544692900Z"
    }
   },
   "id": "a679cc688c1c5161",
   "execution_count": 28
  },
  {
   "cell_type": "code",
   "outputs": [
    {
     "name": "stdout",
     "output_type": "stream",
     "text": [
      "lesbian - woman = gay - man\n"
     ]
    }
   ],
   "source": [
    "find_analogies('lesbian', 'woman', 'man')"
   ],
   "metadata": {
    "collapsed": false,
    "ExecuteTime": {
     "end_time": "2024-05-24T15:23:12.650383800Z",
     "start_time": "2024-05-24T15:23:12.444348500Z"
    }
   },
   "id": "d85b8748c5bdbbaf",
   "execution_count": 29
  },
  {
   "cell_type": "code",
   "outputs": [],
   "source": [
    "def nearest_neighbors(w):\n",
    "    r = word_vectors.most_similar(positive=[w])\n",
    "    print(f'Neighbors of: {w.title()}')\n",
    "    for word, score in r:\n",
    "        print(f'\\t{word}')"
   ],
   "metadata": {
    "collapsed": false,
    "ExecuteTime": {
     "end_time": "2024-05-24T15:23:13.353578200Z",
     "start_time": "2024-05-24T15:23:13.340077400Z"
    }
   },
   "id": "21a9f21c6290f7ab",
   "execution_count": 30
  },
  {
   "cell_type": "code",
   "outputs": [
    {
     "name": "stdout",
     "output_type": "stream",
     "text": [
      "Neighbors of: Queen\n",
      "\tqueens\n",
      "\tprincess\n",
      "\tking\n",
      "\tmonarch\n",
      "\tvery_pampered_McElhatton\n",
      "\tQueen\n",
      "\tNYC_anglophiles_aflutter\n",
      "\tQueen_Consort\n",
      "\tprincesses\n",
      "\troyal\n"
     ]
    }
   ],
   "source": [
    "nearest_neighbors('queen')"
   ],
   "metadata": {
    "collapsed": false,
    "ExecuteTime": {
     "end_time": "2024-05-24T15:23:14.141101Z",
     "start_time": "2024-05-24T15:23:13.938065900Z"
    }
   },
   "id": "64c57ebd9f1d438f",
   "execution_count": 31
  },
  {
   "cell_type": "code",
   "outputs": [
    {
     "name": "stdout",
     "output_type": "stream",
     "text": [
      "Neighbors of: Pizza\n",
      "\tpizzas\n",
      "\tDomino_pizza\n",
      "\tPizza\n",
      "\tpepperoni_pizza\n",
      "\tsandwich\n",
      "\tburger\n",
      "\tsandwiches\n",
      "\ttakeout_pizza\n",
      "\tgourmet_pizza\n",
      "\tmeatball_sandwich\n"
     ]
    }
   ],
   "source": [
    "nearest_neighbors('pizza')"
   ],
   "metadata": {
    "collapsed": false,
    "ExecuteTime": {
     "end_time": "2024-05-24T15:25:33.927139300Z",
     "start_time": "2024-05-24T15:25:33.670095800Z"
    }
   },
   "id": "a13a5637e9c6613b",
   "execution_count": 37
  },
  {
   "cell_type": "code",
   "outputs": [
    {
     "name": "stdout",
     "output_type": "stream",
     "text": [
      "Neighbors of: Neutron\n",
      "\tneutrons\n",
      "\tmuon\n",
      "\tneutron_beams\n",
      "\tphoton\n",
      "\telectron\n",
      "\tfission\n",
      "\tion_beams\n",
      "\talpha_particles\n",
      "\tscintillator\n",
      "\tX_ray_pulses\n"
     ]
    }
   ],
   "source": [
    "nearest_neighbors('neutron')"
   ],
   "metadata": {
    "collapsed": false,
    "ExecuteTime": {
     "end_time": "2024-05-24T15:40:20.173638300Z",
     "start_time": "2024-05-24T15:40:19.979603600Z"
    }
   },
   "id": "65da60f1a2b8dfff",
   "execution_count": 47
  },
  {
   "cell_type": "code",
   "outputs": [],
   "source": [],
   "metadata": {
    "collapsed": false
   },
   "id": "7d69f48a3fc34034"
  }
 ],
 "metadata": {
  "kernelspec": {
   "display_name": "Python 3",
   "language": "python",
   "name": "python3"
  },
  "language_info": {
   "codemirror_mode": {
    "name": "ipython",
    "version": 2
   },
   "file_extension": ".py",
   "mimetype": "text/x-python",
   "name": "python",
   "nbconvert_exporter": "python",
   "pygments_lexer": "ipython2",
   "version": "2.7.6"
  }
 },
 "nbformat": 4,
 "nbformat_minor": 5
}
