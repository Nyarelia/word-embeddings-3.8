{
 "cells": [
  {
   "cell_type": "code",
   "execution_count": 3,
   "id": "initial_id",
   "metadata": {
    "collapsed": true,
    "ExecuteTime": {
     "end_time": "2024-05-24T15:03:30.308759700Z",
     "start_time": "2024-05-24T15:03:30.298258200Z"
    }
   },
   "outputs": [],
   "source": [
    "from gensim.models import KeyedVectors"
   ]
  },
  {
   "cell_type": "code",
   "outputs": [],
   "source": [
    "word_vectors = KeyedVectors.load_word2vec_format(\n",
    "    'GoogleNews-vectors-negative300.bin', binary=True)"
   ],
   "metadata": {
    "collapsed": false,
    "ExecuteTime": {
     "end_time": "2024-05-24T15:04:35.588638200Z",
     "start_time": "2024-05-24T15:04:15.160576300Z"
    }
   },
   "id": "43eb9c2da4ce555d",
   "execution_count": 5
  },
  {
   "cell_type": "code",
   "outputs": [],
   "source": [
    "def find_analogies(w1, w2, w3):\n",
    "    \"\"\"\n",
    "    w1 - w2 = ? - w3\n",
    "    e.g. king - man = ? - woman\n",
    "    ? = +king +woman -man\n",
    "    \"\"\"\n",
    "    r = word_vectors.most_similar(positive=[w1, w3], negative=[w2])\n",
    "    print('%s - %s = %s - %s' % (w1, w2, r[0][0], w3))\n",
    "    "
   ],
   "metadata": {
    "collapsed": false,
    "ExecuteTime": {
     "end_time": "2024-05-24T15:08:03.453055600Z",
     "start_time": "2024-05-24T15:08:03.443054400Z"
    }
   },
   "id": "ab78715a746269f7",
   "execution_count": 6
  },
  {
   "cell_type": "code",
   "outputs": [
    {
     "name": "stdout",
     "output_type": "stream",
     "text": [
      "king - man = queen - woman\n"
     ]
    }
   ],
   "source": [
    "find_analogies('king', 'man', 'woman')"
   ],
   "metadata": {
    "collapsed": false,
    "ExecuteTime": {
     "end_time": "2024-05-24T15:08:15.483616100Z",
     "start_time": "2024-05-24T15:08:13.438258900Z"
    }
   },
   "id": "4127cc1a87e8dfdb",
   "execution_count": 7
  },
  {
   "cell_type": "code",
   "outputs": [
    {
     "name": "stdout",
     "output_type": "stream",
     "text": [
      "cat - dog = cows - sheep\n"
     ]
    }
   ],
   "source": [
    "find_analogies('cat', 'dog', 'sheep')"
   ],
   "metadata": {
    "collapsed": false,
    "ExecuteTime": {
     "end_time": "2024-05-24T15:10:38.762171600Z",
     "start_time": "2024-05-24T15:10:38.556637100Z"
    }
   },
   "id": "56824daaa8bba45b",
   "execution_count": 10
  },
  {
   "cell_type": "code",
   "outputs": [
    {
     "name": "stdout",
     "output_type": "stream",
     "text": [
      "finland - helsinki = barcelona - spain\n"
     ]
    }
   ],
   "source": [
    "find_analogies('finland', 'helsinki', 'spain')"
   ],
   "metadata": {
    "collapsed": false,
    "ExecuteTime": {
     "end_time": "2024-05-24T15:12:24.960624400Z",
     "start_time": "2024-05-24T15:12:24.759088300Z"
    }
   },
   "id": "a679cc688c1c5161",
   "execution_count": 15
  },
  {
   "cell_type": "code",
   "outputs": [
    {
     "name": "stdout",
     "output_type": "stream",
     "text": [
      "lesbian - woman = gay - man\n"
     ]
    }
   ],
   "source": [
    "find_analogies('lesbian', 'woman', 'man')"
   ],
   "metadata": {
    "collapsed": false,
    "ExecuteTime": {
     "end_time": "2024-05-24T15:11:58.346619900Z",
     "start_time": "2024-05-24T15:11:58.141085900Z"
    }
   },
   "id": "d85b8748c5bdbbaf",
   "execution_count": 14
  },
  {
   "cell_type": "code",
   "outputs": [],
   "source": [],
   "metadata": {
    "collapsed": false
   },
   "id": "21a9f21c6290f7ab"
  }
 ],
 "metadata": {
  "kernelspec": {
   "display_name": "Python 3",
   "language": "python",
   "name": "python3"
  },
  "language_info": {
   "codemirror_mode": {
    "name": "ipython",
    "version": 2
   },
   "file_extension": ".py",
   "mimetype": "text/x-python",
   "name": "python",
   "nbconvert_exporter": "python",
   "pygments_lexer": "ipython2",
   "version": "2.7.6"
  }
 },
 "nbformat": 4,
 "nbformat_minor": 5
}
