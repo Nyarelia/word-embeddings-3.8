{
 "cells": [
  {
   "cell_type": "code",
   "execution_count": 49,
   "id": "initial_id",
   "metadata": {
    "collapsed": true,
    "ExecuteTime": {
     "end_time": "2024-05-25T16:34:01.306674900Z",
     "start_time": "2024-05-25T16:34:01.278169900Z"
    }
   },
   "outputs": [],
   "source": [
    "from gensim.models import KeyedVectors"
   ]
  },
  {
   "cell_type": "code",
   "outputs": [],
   "source": [
    "word_vectors = KeyedVectors.load_word2vec_format(\n",
    "    'GoogleNews-vectors-negative300.bin', binary=True)"
   ],
   "metadata": {
    "collapsed": false,
    "ExecuteTime": {
     "end_time": "2024-05-25T16:34:21.246533500Z",
     "start_time": "2024-05-25T16:34:01.281669800Z"
    }
   },
   "id": "43eb9c2da4ce555d",
   "execution_count": 50
  },
  {
   "cell_type": "code",
   "outputs": [],
   "source": [
    "def find_analogies(w1, w2, w3):\n",
    "    \"\"\"\n",
    "    w1 - w2 = ? - w3\n",
    "    e.g. king - man = ? - woman\n",
    "    ? = +king +woman -man\n",
    "    \"\"\"\n",
    "    r = word_vectors.most_similar(positive=[w1, w3], negative=[w2])\n",
    "    print(f'{w1} - {w2} = {r[0][0]} - {w3}')\n",
    "  \n",
    "    "
   ],
   "metadata": {
    "collapsed": false,
    "ExecuteTime": {
     "end_time": "2024-05-25T16:34:21.267536700Z",
     "start_time": "2024-05-25T16:34:21.251534700Z"
    }
   },
   "id": "ab78715a746269f7",
   "execution_count": 51
  },
  {
   "cell_type": "code",
   "outputs": [
    {
     "name": "stdout",
     "output_type": "stream",
     "text": [
      "king - man = queen - woman\n"
     ]
    }
   ],
   "source": [
    "find_analogies('king', 'man', 'woman')"
   ],
   "metadata": {
    "collapsed": false,
    "ExecuteTime": {
     "end_time": "2024-05-25T16:34:23.360902Z",
     "start_time": "2024-05-25T16:34:21.265036400Z"
    }
   },
   "id": "4127cc1a87e8dfdb",
   "execution_count": 52
  },
  {
   "cell_type": "code",
   "outputs": [
    {
     "name": "stdout",
     "output_type": "stream",
     "text": [
      "cat - dog = cows - sheep\n"
     ]
    }
   ],
   "source": [
    "find_analogies('cat', 'dog', 'sheep')"
   ],
   "metadata": {
    "collapsed": false,
    "ExecuteTime": {
     "end_time": "2024-05-25T16:34:23.592442200Z",
     "start_time": "2024-05-25T16:34:23.361902300Z"
    }
   },
   "id": "56824daaa8bba45b",
   "execution_count": 53
  },
  {
   "cell_type": "code",
   "outputs": [
    {
     "name": "stdout",
     "output_type": "stream",
     "text": [
      "finland - helsinki = barcelona - spain\n"
     ]
    }
   ],
   "source": [
    "find_analogies('finland', 'helsinki', 'spain')"
   ],
   "metadata": {
    "collapsed": false,
    "ExecuteTime": {
     "end_time": "2024-05-25T16:34:23.825982900Z",
     "start_time": "2024-05-25T16:34:23.591942300Z"
    }
   },
   "id": "a679cc688c1c5161",
   "execution_count": 54
  },
  {
   "cell_type": "code",
   "outputs": [
    {
     "name": "stdout",
     "output_type": "stream",
     "text": [
      "lesbian - woman = gay - man\n"
     ]
    }
   ],
   "source": [
    "find_analogies('lesbian', 'woman', 'man')"
   ],
   "metadata": {
    "collapsed": false,
    "ExecuteTime": {
     "end_time": "2024-05-25T16:34:24.046022Z",
     "start_time": "2024-05-25T16:34:23.824982400Z"
    }
   },
   "id": "d85b8748c5bdbbaf",
   "execution_count": 55
  },
  {
   "cell_type": "code",
   "outputs": [],
   "source": [
    "def nearest_neighbors(w):\n",
    "    r = word_vectors.most_similar(positive=[w])\n",
    "    print(f'Neighbors of: {w.title()}')\n",
    "    for word, score in r:\n",
    "        print(f'\\t{word}')"
   ],
   "metadata": {
    "collapsed": false,
    "ExecuteTime": {
     "end_time": "2024-05-25T16:34:24.068025500Z",
     "start_time": "2024-05-25T16:34:24.038520700Z"
    }
   },
   "id": "21a9f21c6290f7ab",
   "execution_count": 56
  },
  {
   "cell_type": "code",
   "outputs": [
    {
     "name": "stdout",
     "output_type": "stream",
     "text": [
      "Neighbors of: Queen\n",
      "\tqueens\n",
      "\tprincess\n",
      "\tking\n",
      "\tmonarch\n",
      "\tvery_pampered_McElhatton\n",
      "\tQueen\n",
      "\tNYC_anglophiles_aflutter\n",
      "\tQueen_Consort\n",
      "\tprincesses\n",
      "\troyal\n"
     ]
    }
   ],
   "source": [
    "nearest_neighbors('queen')"
   ],
   "metadata": {
    "collapsed": false,
    "ExecuteTime": {
     "end_time": "2024-05-25T16:34:24.287064300Z",
     "start_time": "2024-05-25T16:34:24.057523900Z"
    }
   },
   "id": "64c57ebd9f1d438f",
   "execution_count": 57
  },
  {
   "cell_type": "code",
   "outputs": [
    {
     "name": "stdout",
     "output_type": "stream",
     "text": [
      "Neighbors of: Pizza\n",
      "\tpizzas\n",
      "\tDomino_pizza\n",
      "\tPizza\n",
      "\tpepperoni_pizza\n",
      "\tsandwich\n",
      "\tburger\n",
      "\tsandwiches\n",
      "\ttakeout_pizza\n",
      "\tgourmet_pizza\n",
      "\tmeatball_sandwich\n"
     ]
    }
   ],
   "source": [
    "nearest_neighbors('pizza')"
   ],
   "metadata": {
    "collapsed": false,
    "ExecuteTime": {
     "end_time": "2024-05-25T16:34:24.562614300Z",
     "start_time": "2024-05-25T16:34:24.286063600Z"
    }
   },
   "id": "a13a5637e9c6613b",
   "execution_count": 58
  },
  {
   "cell_type": "code",
   "outputs": [
    {
     "name": "stdout",
     "output_type": "stream",
     "text": [
      "Neighbors of: Neutron\n",
      "\tneutrons\n",
      "\tmuon\n",
      "\tneutron_beams\n",
      "\tphoton\n",
      "\telectron\n",
      "\tfission\n",
      "\tion_beams\n",
      "\talpha_particles\n",
      "\tscintillator\n",
      "\tX_ray_pulses\n"
     ]
    }
   ],
   "source": [
    "nearest_neighbors('neutron')"
   ],
   "metadata": {
    "collapsed": false,
    "ExecuteTime": {
     "end_time": "2024-05-25T16:34:24.798655200Z",
     "start_time": "2024-05-25T16:34:24.519104400Z"
    }
   },
   "id": "65da60f1a2b8dfff",
   "execution_count": 59
  }
 ],
 "metadata": {
  "kernelspec": {
   "display_name": "Python 3",
   "language": "python",
   "name": "python3"
  },
  "language_info": {
   "codemirror_mode": {
    "name": "ipython",
    "version": 2
   },
   "file_extension": ".py",
   "mimetype": "text/x-python",
   "name": "python",
   "nbconvert_exporter": "python",
   "pygments_lexer": "ipython2",
   "version": "2.7.6"
  }
 },
 "nbformat": 4,
 "nbformat_minor": 5
}
